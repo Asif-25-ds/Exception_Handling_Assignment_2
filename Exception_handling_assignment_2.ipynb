{
 "cells": [
  {
   "cell_type": "code",
   "execution_count": 41,
   "metadata": {},
   "outputs": [],
   "source": [
    "# Problem statement 1:-Why we have to use exception class while creating a custom exception class\n",
    "# Inheriting from Exception aligns our custom exception class with the structure of Python's exception class.\n",
    "# This uniformity improves code and aids other developers in understanding our code.\n",
    "# This enables capturing exceptions at different specificity levels means when we specifically specify our error type in except block.\n",
    "# Useful for addressing various error types with unique error-handling strategies."
   ]
  },
  {
   "cell_type": "code",
   "execution_count": null,
   "metadata": {},
   "outputs": [],
   "source": [
    "#Problem statement 2-python program to print python exception hierarchy \n",
    "#The Python exception hierarchy is a structured organization of exception classes in Python.\n",
    "\n",
    "def print_exception_hierarchy(exception_class):\n",
    "    print(exception_class.__name__)\n",
    "    for subclass in exception_class.__subclasses__():\n",
    "        print_exception_hierarchy(subclass)\n",
    "\n",
    "print_exception_hierarchy(BaseException)"
   ]
  },
  {
   "cell_type": "code",
   "execution_count": null,
   "metadata": {},
   "outputs": [],
   "source": [
    "#Problem_statement_3-What errors are defined in Arithmetic error class.\n",
    "#Answer.The errors are ArithmeticError\n",
    "# FloatingPointError\n",
    "# OverflowError\n",
    "# ZeroDivisionError\n",
    "# DivisionByZero\n",
    "# value error\n",
    "# A ValueError can be raised when an operation is performed on an inappropriate value.ex:-\n",
    "result=int(\"xuz\")\n",
    "# An overflow error is raised when the result of an arithmetic operation is too large to be represented.ex:-\n",
    "result2=2**1000000000"
   ]
  },
  {
   "cell_type": "code",
   "execution_count": null,
   "metadata": {},
   "outputs": [],
   "source": [
    "#Problem_statement_4-Why LookupError class is used? Explain with example KeyError and IndexError\n",
    "#The LookupError class in Python is used as a base class for exceptions that involve lookup operations, \n",
    "#particularly those related to sequences like lists, tuples, and dictionaries. \n",
    "#It's subclasses or exceptions are IndeError and KeyError\n",
    "#IndexError-Raised when an index used to access an element in a sequence (like a list or tuple) is out of range.\n",
    "l=[1,2,3,4,5]\n",
    "l[10]\n",
    "#KeyError-Raised when a dictionary key is not found during a lookup.\n",
    "d={\n",
    "    \"name\":\"xyz\",\n",
    "    \"Class\":\"Data science masters 2.0\",\n",
    "    \"Contact\":9999999\n",
    "}\n",
    "d[\"mail\"]\n"
   ]
  },
  {
   "cell_type": "code",
   "execution_count": 24,
   "metadata": {},
   "outputs": [
    {
     "name": "stdout",
     "output_type": "stream",
     "text": [
      "This module not exist :No module named 'xyz'\n"
     ]
    }
   ],
   "source": [
    "#Problem_statement_5-Explain ImportError,What is ModuleNotFoundError.\n",
    "#ImportError is raised when a pythin interpreter is failed to import a module, and ModuleNotFoundError is on eof the exceptions\n",
    "#under ImportError class,ex:-\n",
    "try:\n",
    "    import xyz\n",
    "except ImportError as e:\n",
    "    print(\"This module not exist :{}\".format(e))"
   ]
  },
  {
   "cell_type": "code",
   "execution_count": 40,
   "metadata": {},
   "outputs": [
    {
     "name": "stdout",
     "output_type": "stream",
     "text": [
      "Excepting Error as e-[Errno 2] No such file or directory: 'google.txt'\n"
     ]
    }
   ],
   "source": [
    "#Problem_statement_6 Answer.    \n",
    "#Best practices for exception handling in python:-\n",
    "# 1.Catch specific exceptions rather than writing except with base class.\n",
    "# 2.Avoid using except alone without spcifying any exception.\n",
    "# 3.use finally in file handling.\n",
    "# 4.Log exceptions in a file for debugging.\n",
    "#CODE\n",
    "import logging\n",
    "logging.basicConfig(filename=\"exception_handling_asssignment2.log\",level=logging.INFO,format='%(asctime)s %(levelname)s %(message)s' )\n",
    "try:\n",
    "    logging.info(\"I am under try and cathcing a file while do not exist.\")\n",
    "    with open(\"google.txt\",'r') as f:\n",
    "        f.read()    \n",
    "except FileNotFoundError as e:\n",
    "    logging.error(\"I am under except and catch the error as e={}\".format(e))\n",
    "    logging.info(\"I am under except and opening creating a new file.\")\n",
    "    with open(\"file.txt\",'w') as f:\n",
    "        f.write(\"WRITNG THIS TO EXPLAIN Best practices for exception handling in python\")\n",
    "    print(\"Excepting Error as e-{}\".format(e))\n",
    "else:\n",
    "    logging.info(\"I am under else.\")\n",
    "    print(\"this will run if except doesn't runs\")\n",
    "finally:\n",
    "    logging.info(\"I am under finally and closing a file which i have creatd above.\")\n",
    "    logging.warning(\"Don't forget to close the file after use.\")\n",
    "    f.close()\n",
    "    logging.info(\"CLOSED THE FILE.\")\n",
    "    logging.shutdown()\n"
   ]
  },
  {
   "cell_type": "code",
   "execution_count": null,
   "metadata": {},
   "outputs": [],
   "source": []
  }
 ],
 "metadata": {
  "kernelspec": {
   "display_name": "Python 3",
   "language": "python",
   "name": "python3"
  },
  "language_info": {
   "codemirror_mode": {
    "name": "ipython",
    "version": 3
   },
   "file_extension": ".py",
   "mimetype": "text/x-python",
   "name": "python",
   "nbconvert_exporter": "python",
   "pygments_lexer": "ipython3",
   "version": "3.11.7"
  }
 },
 "nbformat": 4,
 "nbformat_minor": 2
}
